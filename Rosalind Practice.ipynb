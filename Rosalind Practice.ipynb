{
 "cells": [
  {
   "cell_type": "markdown",
   "id": "a3896202",
   "metadata": {},
   "source": [
    "# Variables and Arithmetic"
   ]
  },
  {
   "cell_type": "code",
   "execution_count": 3,
   "id": "fc443e31",
   "metadata": {},
   "outputs": [
    {
     "name": "stdout",
     "output_type": "stream",
     "text": [
      "a - b is 300\n"
     ]
    }
   ],
   "source": [
    "a = 324\n",
    "b = 24\n",
    "c = a - b\n",
    "print ('a - b is', c)"
   ]
  },
  {
   "cell_type": "code",
   "execution_count": 9,
   "id": "652ac334",
   "metadata": {},
   "outputs": [
    {
     "name": "stdout",
     "output_type": "stream",
     "text": [
      "348\n"
     ]
    }
   ],
   "source": [
    "print(a + b)"
   ]
  },
  {
   "cell_type": "code",
   "execution_count": 10,
   "id": "2f009442",
   "metadata": {},
   "outputs": [
    {
     "name": "stdout",
     "output_type": "stream",
     "text": [
      "300\n"
     ]
    }
   ],
   "source": [
    "print(a-b)"
   ]
  },
  {
   "cell_type": "code",
   "execution_count": 11,
   "id": "4d15bf82",
   "metadata": {},
   "outputs": [
    {
     "name": "stdout",
     "output_type": "stream",
     "text": [
      "7776\n"
     ]
    }
   ],
   "source": [
    "print(a*b)"
   ]
  },
  {
   "cell_type": "code",
   "execution_count": 12,
   "id": "a717ad23",
   "metadata": {},
   "outputs": [
    {
     "name": "stdout",
     "output_type": "stream",
     "text": [
      "13.5\n"
     ]
    }
   ],
   "source": [
    "print(a/b)"
   ]
  },
  {
   "cell_type": "code",
   "execution_count": 13,
   "id": "c787eaa3",
   "metadata": {},
   "outputs": [
    {
     "name": "stdout",
     "output_type": "stream",
     "text": [
      "12\n"
     ]
    }
   ],
   "source": [
    "print(a%b)"
   ]
  },
  {
   "cell_type": "code",
   "execution_count": 14,
   "id": "3db82170",
   "metadata": {},
   "outputs": [
    {
     "data": {
      "text/plain": [
       "1790936736360969372944990075243931530785586679975800865816576"
      ]
     },
     "execution_count": 14,
     "metadata": {},
     "output_type": "execute_result"
    }
   ],
   "source": [
    "a**b"
   ]
  },
  {
   "cell_type": "markdown",
   "id": "14806993",
   "metadata": {},
   "source": [
    "#Strings"
   ]
  },
  {
   "cell_type": "code",
   "execution_count": 15,
   "id": "3558c010",
   "metadata": {},
   "outputs": [],
   "source": [
    "a = 'Rosalind'\n",
    "b = 'Franklin'\n",
    "c = '!'"
   ]
  },
  {
   "cell_type": "code",
   "execution_count": 19,
   "id": "27cc0ba7",
   "metadata": {},
   "outputs": [
    {
     "name": "stdout",
     "output_type": "stream",
     "text": [
      "Rosalind Franklin!!!\n"
     ]
    }
   ],
   "source": [
    "print(a + ' ' + b + c*3)"
   ]
  },
  {
   "cell_type": "markdown",
   "id": "b037ccf8",
   "metadata": {},
   "source": [
    "Problem 1: \n",
    "Given: Two positive integers 987 (a)and 822 (b), each less than 1000.\n",
    "Return: The integer corresponding to the square of the hypotenuse of the right triangle whose legs have lengths a and b."
   ]
  },
  {
   "cell_type": "code",
   "execution_count": 20,
   "id": "e86bbd2f",
   "metadata": {},
   "outputs": [
    {
     "data": {
      "text/plain": [
       "1649853"
      ]
     },
     "execution_count": 20,
     "metadata": {},
     "output_type": "execute_result"
    }
   ],
   "source": [
    "987**2 + 822**2"
   ]
  }
 ],
 "metadata": {
  "kernelspec": {
   "display_name": "Python 3",
   "language": "python",
   "name": "python3"
  },
  "language_info": {
   "codemirror_mode": {
    "name": "ipython",
    "version": 3
   },
   "file_extension": ".py",
   "mimetype": "text/x-python",
   "name": "python",
   "nbconvert_exporter": "python",
   "pygments_lexer": "ipython3",
   "version": "3.8.10"
  }
 },
 "nbformat": 4,
 "nbformat_minor": 5
}
